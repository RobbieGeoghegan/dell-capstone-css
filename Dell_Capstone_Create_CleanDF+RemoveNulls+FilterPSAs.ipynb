{
 "cells": [
  {
   "cell_type": "code",
   "execution_count": 87,
   "metadata": {},
   "outputs": [],
   "source": [
    "import pandas as pd\n",
    "import numpy as np\n",
    "import missingno as msno\n",
    "import datetime as dt\n",
    "import matplotlib.pyplot as plt"
   ]
  },
  {
   "cell_type": "code",
   "execution_count": 88,
   "metadata": {},
   "outputs": [
    {
     "name": "stderr",
     "output_type": "stream",
     "text": [
      "C:\\Users\\geogh\\Anaconda3\\lib\\site-packages\\IPython\\core\\interactiveshell.py:3049: DtypeWarning: Columns (10) have mixed types. Specify dtype option on import or set low_memory=False.\n",
      "  interactivity=interactivity, compiler=compiler, result=result)\n"
     ]
    }
   ],
   "source": [
    "df = pd.read_csv('DataExtract_v2.csv') #read in CSV file provided\n",
    "df_PSA = pd.read_csv('PSA 03.13.csv') #read in CSV file provided"
   ]
  },
  {
   "cell_type": "markdown",
   "metadata": {},
   "source": [
    "# DROP COLUMNS"
   ]
  },
  {
   "cell_type": "code",
   "execution_count": 89,
   "metadata": {},
   "outputs": [
    {
     "data": {
      "text/plain": [
       "Index(['MyDealId', 'SfdcDealId', 'OpportunityNumber', 'BookingSystemName',\n",
       "       'Assets', 'IsPrimary', 'segmentvalue', 'OpportunityTypeValue', 'DealId',\n",
       "       'SFDCSUPPORTREQUESTID', 'CustomerNumber', 'dealstatusvalue',\n",
       "       'RegionValue', 'CountryValue', 'OwnerID',\n",
       "       'TechnologySolutionOwnerBadge', 'SMEID', 'LOBNAME', 'Technologyname',\n",
       "       'Fiscal Year', 'Fiscal Quarter', 'Fiscal Week', 'IntakeDate',\n",
       "       'AssignedDate', 'FirstDeliverableProvidedDate',\n",
       "       'FinalDeliverableProvidedDate', 'ContractDecisionDate',\n",
       "       'EstimatedAwardDate', 'EstimatedDeliveryDate', 'RespondedToSales',\n",
       "       'SfdcDeliverableDueDate', 'ContractRevenue', 'LineItemRevenue',\n",
       "       'dealtechnologytags'],\n",
       "      dtype='object')"
      ]
     },
     "execution_count": 89,
     "metadata": {},
     "output_type": "execute_result"
    }
   ],
   "source": [
    "df.columns"
   ]
  },
  {
   "cell_type": "code",
   "execution_count": 90,
   "metadata": {},
   "outputs": [],
   "source": [
    "df = df[df['RegionValue'] == \"AMER\"]"
   ]
  },
  {
   "cell_type": "code",
   "execution_count": 91,
   "metadata": {},
   "outputs": [],
   "source": [
    "df = df.drop(columns=['SfdcDealId','DealId','SFDCSUPPORTREQUESTID','OpportunityNumber','segmentvalue','ContractDecisionDate',\n",
    "       'EstimatedAwardDate', 'EstimatedDeliveryDate','SfdcDeliverableDueDate'])"
   ]
  },
  {
   "cell_type": "code",
   "execution_count": 92,
   "metadata": {},
   "outputs": [],
   "source": [
    "df = df[df['dealstatusvalue'] != 'Lost']"
   ]
  },
  {
   "cell_type": "code",
   "execution_count": 93,
   "metadata": {},
   "outputs": [],
   "source": [
    "df = df[df['dealstatusvalue'] != 'Cancelled']"
   ]
  },
  {
   "cell_type": "code",
   "execution_count": 94,
   "metadata": {},
   "outputs": [],
   "source": [
    "df = df[df['dealstatusvalue'] != 'No Opportunity']"
   ]
  },
  {
   "cell_type": "code",
   "execution_count": 95,
   "metadata": {},
   "outputs": [],
   "source": [
    "df = df[df['dealstatusvalue'] != 'Inactive']"
   ]
  },
  {
   "cell_type": "code",
   "execution_count": 96,
   "metadata": {},
   "outputs": [],
   "source": [
    "df = df[df['dealstatusvalue'] != 'Solutioning']"
   ]
  },
  {
   "cell_type": "markdown",
   "metadata": {},
   "source": [
    "# FILTER OUT PSAS NOT IN PROVIDED LIST "
   ]
  },
  {
   "cell_type": "code",
   "execution_count": 97,
   "metadata": {},
   "outputs": [
    {
     "data": {
      "text/plain": [
       "8435"
      ]
     },
     "execution_count": 97,
     "metadata": {},
     "output_type": "execute_result"
    }
   ],
   "source": [
    "#Rows before\n",
    "len(df)"
   ]
  },
  {
   "cell_type": "markdown",
   "metadata": {},
   "source": [
    "#### Manage Null TechnologySolutionOwnerBadge"
   ]
  },
  {
   "cell_type": "code",
   "execution_count": 98,
   "metadata": {
    "scrolled": true
   },
   "outputs": [
    {
     "data": {
      "text/plain": [
       "128"
      ]
     },
     "execution_count": 98,
     "metadata": {},
     "output_type": "execute_result"
    }
   ],
   "source": [
    "df['TechnologySolutionOwnerBadge'].isna().sum()"
   ]
  },
  {
   "cell_type": "code",
   "execution_count": 99,
   "metadata": {},
   "outputs": [],
   "source": [
    "#TechnologySolutionOwnerBadge\n",
    "mask = df['TechnologySolutionOwnerBadge'].isna()\n",
    "df['TechnologySolutionOwnerBadge'] = np.where(mask, df['OwnerID'], df['TechnologySolutionOwnerBadge'])"
   ]
  },
  {
   "cell_type": "markdown",
   "metadata": {},
   "source": [
    "#### Merge dfs - Inner Join"
   ]
  },
  {
   "cell_type": "code",
   "execution_count": 100,
   "metadata": {},
   "outputs": [
    {
     "data": {
      "text/plain": [
       "6263"
      ]
     },
     "execution_count": 100,
     "metadata": {},
     "output_type": "execute_result"
    }
   ],
   "source": [
    "df = df.merge(df_PSA, left_on='TechnologySolutionOwnerBadge', right_on='Employee ID', how = 'inner')\n",
    "df = df.drop(columns = 'Employee ID')\n",
    "#Rows after merge\n",
    "len(df)"
   ]
  },
  {
   "cell_type": "code",
   "execution_count": 101,
   "metadata": {},
   "outputs": [
    {
     "name": "stdout",
     "output_type": "stream",
     "text": [
      "TechnologySolutionOwnerBadge Nulls:  0\n"
     ]
    }
   ],
   "source": [
    "#Check\n",
    "print('TechnologySolutionOwnerBadge Nulls: ', df['TechnologySolutionOwnerBadge'].isna().sum())"
   ]
  },
  {
   "cell_type": "code",
   "execution_count": 102,
   "metadata": {},
   "outputs": [
    {
     "name": "stdout",
     "output_type": "stream",
     "text": [
      "Number of unique PSAs:  119\n"
     ]
    }
   ],
   "source": [
    "print('Number of unique PSAs: ', len(df['TechnologySolutionOwnerBadge'].value_counts()))"
   ]
  },
  {
   "cell_type": "markdown",
   "metadata": {},
   "source": [
    "## Null Management"
   ]
  },
  {
   "cell_type": "code",
   "execution_count": 103,
   "metadata": {},
   "outputs": [
    {
     "data": {
      "text/html": [
       "<div>\n",
       "<style scoped>\n",
       "    .dataframe tbody tr th:only-of-type {\n",
       "        vertical-align: middle;\n",
       "    }\n",
       "\n",
       "    .dataframe tbody tr th {\n",
       "        vertical-align: top;\n",
       "    }\n",
       "\n",
       "    .dataframe thead th {\n",
       "        text-align: right;\n",
       "    }\n",
       "</style>\n",
       "<table border=\"1\" class=\"dataframe\">\n",
       "  <thead>\n",
       "    <tr style=\"text-align: right;\">\n",
       "      <th></th>\n",
       "      <th>MyDealId</th>\n",
       "      <th>Assets</th>\n",
       "      <th>IsPrimary</th>\n",
       "      <th>OwnerID</th>\n",
       "      <th>TechnologySolutionOwnerBadge</th>\n",
       "      <th>SMEID</th>\n",
       "      <th>Fiscal Year</th>\n",
       "      <th>Fiscal Week</th>\n",
       "      <th>ContractRevenue</th>\n",
       "      <th>LineItemRevenue</th>\n",
       "      <th>Time in Job Profile</th>\n",
       "    </tr>\n",
       "  </thead>\n",
       "  <tbody>\n",
       "    <tr>\n",
       "      <th>MyDealId</th>\n",
       "      <td>1.000000</td>\n",
       "      <td>0.075723</td>\n",
       "      <td>0.165680</td>\n",
       "      <td>0.351797</td>\n",
       "      <td>0.349229</td>\n",
       "      <td>0.389696</td>\n",
       "      <td>0.854487</td>\n",
       "      <td>0.950031</td>\n",
       "      <td>-0.002848</td>\n",
       "      <td>-0.003972</td>\n",
       "      <td>-0.166024</td>\n",
       "    </tr>\n",
       "    <tr>\n",
       "      <th>Assets</th>\n",
       "      <td>0.075723</td>\n",
       "      <td>1.000000</td>\n",
       "      <td>0.023730</td>\n",
       "      <td>-0.072428</td>\n",
       "      <td>-0.070853</td>\n",
       "      <td>0.036169</td>\n",
       "      <td>0.074800</td>\n",
       "      <td>0.080236</td>\n",
       "      <td>0.071098</td>\n",
       "      <td>0.147685</td>\n",
       "      <td>-0.021170</td>\n",
       "    </tr>\n",
       "    <tr>\n",
       "      <th>IsPrimary</th>\n",
       "      <td>0.165680</td>\n",
       "      <td>0.023730</td>\n",
       "      <td>1.000000</td>\n",
       "      <td>0.103166</td>\n",
       "      <td>0.109307</td>\n",
       "      <td>-0.064892</td>\n",
       "      <td>0.190117</td>\n",
       "      <td>0.200641</td>\n",
       "      <td>-0.162791</td>\n",
       "      <td>-0.016877</td>\n",
       "      <td>-0.066140</td>\n",
       "    </tr>\n",
       "    <tr>\n",
       "      <th>OwnerID</th>\n",
       "      <td>0.351797</td>\n",
       "      <td>-0.072428</td>\n",
       "      <td>0.103166</td>\n",
       "      <td>1.000000</td>\n",
       "      <td>0.986308</td>\n",
       "      <td>0.838396</td>\n",
       "      <td>0.290784</td>\n",
       "      <td>0.341758</td>\n",
       "      <td>0.042965</td>\n",
       "      <td>0.018909</td>\n",
       "      <td>-0.218441</td>\n",
       "    </tr>\n",
       "    <tr>\n",
       "      <th>TechnologySolutionOwnerBadge</th>\n",
       "      <td>0.349229</td>\n",
       "      <td>-0.070853</td>\n",
       "      <td>0.109307</td>\n",
       "      <td>0.986308</td>\n",
       "      <td>1.000000</td>\n",
       "      <td>0.845170</td>\n",
       "      <td>0.290610</td>\n",
       "      <td>0.340871</td>\n",
       "      <td>0.041925</td>\n",
       "      <td>0.018988</td>\n",
       "      <td>-0.227899</td>\n",
       "    </tr>\n",
       "    <tr>\n",
       "      <th>SMEID</th>\n",
       "      <td>0.389696</td>\n",
       "      <td>0.036169</td>\n",
       "      <td>-0.064892</td>\n",
       "      <td>0.838396</td>\n",
       "      <td>0.845170</td>\n",
       "      <td>1.000000</td>\n",
       "      <td>0.332169</td>\n",
       "      <td>0.374155</td>\n",
       "      <td>0.108494</td>\n",
       "      <td>0.068770</td>\n",
       "      <td>-0.327570</td>\n",
       "    </tr>\n",
       "    <tr>\n",
       "      <th>Fiscal Year</th>\n",
       "      <td>0.854487</td>\n",
       "      <td>0.074800</td>\n",
       "      <td>0.190117</td>\n",
       "      <td>0.290784</td>\n",
       "      <td>0.290610</td>\n",
       "      <td>0.332169</td>\n",
       "      <td>1.000000</td>\n",
       "      <td>0.964426</td>\n",
       "      <td>-0.058490</td>\n",
       "      <td>-0.040425</td>\n",
       "      <td>-0.162062</td>\n",
       "    </tr>\n",
       "    <tr>\n",
       "      <th>Fiscal Week</th>\n",
       "      <td>0.950031</td>\n",
       "      <td>0.080236</td>\n",
       "      <td>0.200641</td>\n",
       "      <td>0.341758</td>\n",
       "      <td>0.340871</td>\n",
       "      <td>0.374155</td>\n",
       "      <td>0.964426</td>\n",
       "      <td>1.000000</td>\n",
       "      <td>-0.033950</td>\n",
       "      <td>-0.024593</td>\n",
       "      <td>-0.170009</td>\n",
       "    </tr>\n",
       "    <tr>\n",
       "      <th>ContractRevenue</th>\n",
       "      <td>-0.002848</td>\n",
       "      <td>0.071098</td>\n",
       "      <td>-0.162791</td>\n",
       "      <td>0.042965</td>\n",
       "      <td>0.041925</td>\n",
       "      <td>0.108494</td>\n",
       "      <td>-0.058490</td>\n",
       "      <td>-0.033950</td>\n",
       "      <td>1.000000</td>\n",
       "      <td>0.662163</td>\n",
       "      <td>0.027853</td>\n",
       "    </tr>\n",
       "    <tr>\n",
       "      <th>LineItemRevenue</th>\n",
       "      <td>-0.003972</td>\n",
       "      <td>0.147685</td>\n",
       "      <td>-0.016877</td>\n",
       "      <td>0.018909</td>\n",
       "      <td>0.018988</td>\n",
       "      <td>0.068770</td>\n",
       "      <td>-0.040425</td>\n",
       "      <td>-0.024593</td>\n",
       "      <td>0.662163</td>\n",
       "      <td>1.000000</td>\n",
       "      <td>0.019927</td>\n",
       "    </tr>\n",
       "    <tr>\n",
       "      <th>Time in Job Profile</th>\n",
       "      <td>-0.166024</td>\n",
       "      <td>-0.021170</td>\n",
       "      <td>-0.066140</td>\n",
       "      <td>-0.218441</td>\n",
       "      <td>-0.227899</td>\n",
       "      <td>-0.327570</td>\n",
       "      <td>-0.162062</td>\n",
       "      <td>-0.170009</td>\n",
       "      <td>0.027853</td>\n",
       "      <td>0.019927</td>\n",
       "      <td>1.000000</td>\n",
       "    </tr>\n",
       "  </tbody>\n",
       "</table>\n",
       "</div>"
      ],
      "text/plain": [
       "                              MyDealId    Assets  IsPrimary   OwnerID  \\\n",
       "MyDealId                      1.000000  0.075723   0.165680  0.351797   \n",
       "Assets                        0.075723  1.000000   0.023730 -0.072428   \n",
       "IsPrimary                     0.165680  0.023730   1.000000  0.103166   \n",
       "OwnerID                       0.351797 -0.072428   0.103166  1.000000   \n",
       "TechnologySolutionOwnerBadge  0.349229 -0.070853   0.109307  0.986308   \n",
       "SMEID                         0.389696  0.036169  -0.064892  0.838396   \n",
       "Fiscal Year                   0.854487  0.074800   0.190117  0.290784   \n",
       "Fiscal Week                   0.950031  0.080236   0.200641  0.341758   \n",
       "ContractRevenue              -0.002848  0.071098  -0.162791  0.042965   \n",
       "LineItemRevenue              -0.003972  0.147685  -0.016877  0.018909   \n",
       "Time in Job Profile          -0.166024 -0.021170  -0.066140 -0.218441   \n",
       "\n",
       "                              TechnologySolutionOwnerBadge     SMEID  \\\n",
       "MyDealId                                          0.349229  0.389696   \n",
       "Assets                                           -0.070853  0.036169   \n",
       "IsPrimary                                         0.109307 -0.064892   \n",
       "OwnerID                                           0.986308  0.838396   \n",
       "TechnologySolutionOwnerBadge                      1.000000  0.845170   \n",
       "SMEID                                             0.845170  1.000000   \n",
       "Fiscal Year                                       0.290610  0.332169   \n",
       "Fiscal Week                                       0.340871  0.374155   \n",
       "ContractRevenue                                   0.041925  0.108494   \n",
       "LineItemRevenue                                   0.018988  0.068770   \n",
       "Time in Job Profile                              -0.227899 -0.327570   \n",
       "\n",
       "                              Fiscal Year  Fiscal Week  ContractRevenue  \\\n",
       "MyDealId                         0.854487     0.950031        -0.002848   \n",
       "Assets                           0.074800     0.080236         0.071098   \n",
       "IsPrimary                        0.190117     0.200641        -0.162791   \n",
       "OwnerID                          0.290784     0.341758         0.042965   \n",
       "TechnologySolutionOwnerBadge     0.290610     0.340871         0.041925   \n",
       "SMEID                            0.332169     0.374155         0.108494   \n",
       "Fiscal Year                      1.000000     0.964426        -0.058490   \n",
       "Fiscal Week                      0.964426     1.000000        -0.033950   \n",
       "ContractRevenue                 -0.058490    -0.033950         1.000000   \n",
       "LineItemRevenue                 -0.040425    -0.024593         0.662163   \n",
       "Time in Job Profile             -0.162062    -0.170009         0.027853   \n",
       "\n",
       "                              LineItemRevenue  Time in Job Profile  \n",
       "MyDealId                            -0.003972            -0.166024  \n",
       "Assets                               0.147685            -0.021170  \n",
       "IsPrimary                           -0.016877            -0.066140  \n",
       "OwnerID                              0.018909            -0.218441  \n",
       "TechnologySolutionOwnerBadge         0.018988            -0.227899  \n",
       "SMEID                                0.068770            -0.327570  \n",
       "Fiscal Year                         -0.040425            -0.162062  \n",
       "Fiscal Week                         -0.024593            -0.170009  \n",
       "ContractRevenue                      0.662163             0.027853  \n",
       "LineItemRevenue                      1.000000             0.019927  \n",
       "Time in Job Profile                  0.019927             1.000000  "
      ]
     },
     "execution_count": 103,
     "metadata": {},
     "output_type": "execute_result"
    }
   ],
   "source": [
    "#correlation between columns\n",
    "df.corr()"
   ]
  },
  {
   "cell_type": "code",
   "execution_count": 104,
   "metadata": {},
   "outputs": [
    {
     "data": {
      "text/plain": [
       "Text(0.5, 1.0, 'Correlations of Missing Values Only')"
      ]
     },
     "execution_count": 104,
     "metadata": {},
     "output_type": "execute_result"
    },
    {
     "data": {
      "text/plain": [
       "<Figure size 432x288 with 0 Axes>"
      ]
     },
     "metadata": {},
     "output_type": "display_data"
    },
    {
     "data": {
      "image/png": "[encoded data removed]",
      "text/plain": [
       "<Figure size 1440x864 with 2 Axes>"
      ]
     },
     "metadata": {
      "needs_background": "light"
     },
     "output_type": "display_data"
    }
   ],
   "source": [
    "#visualize patterns of missingness\n",
    "plt.figure()\n",
    "msno.heatmap(df)\n",
    "plt.title('Correlations of Missing Values Only')"
   ]
  },
  {
   "cell_type": "markdown",
   "metadata": {},
   "source": [
    "#### BookingSystemName"
   ]
  },
  {
   "cell_type": "code",
   "execution_count": 105,
   "metadata": {},
   "outputs": [
    {
     "data": {
      "text/plain": [
       "2376"
      ]
     },
     "execution_count": 105,
     "metadata": {},
     "output_type": "execute_result"
    }
   ],
   "source": [
    "df['BookingSystemName'].isna().sum()"
   ]
  },
  {
   "cell_type": "code",
   "execution_count": 106,
   "metadata": {},
   "outputs": [],
   "source": [
    "#BookingSystemName - Use most common occuring value\n",
    "mask = df['BookingSystemName'].isna()\n",
    "most_common = df['BookingSystemName'].value_counts().index[0]\n",
    "df.loc[mask,'BookingSystemName'] = most_common"
   ]
  },
  {
   "cell_type": "markdown",
   "metadata": {},
   "source": [
    "#### Assets missing values"
   ]
  },
  {
   "cell_type": "code",
   "execution_count": 107,
   "metadata": {},
   "outputs": [
    {
     "data": {
      "text/plain": [
       "3474"
      ]
     },
     "execution_count": 107,
     "metadata": {},
     "output_type": "execute_result"
    }
   ],
   "source": [
    "df['Assets'].isna().sum()"
   ]
  },
  {
   "cell_type": "code",
   "execution_count": 108,
   "metadata": {},
   "outputs": [],
   "source": [
    "#Assets - APPROACH TBC, using average as a place holder\n",
    "mask = df['Assets'].isna()\n",
    "average_nona = df['Assets'][-mask].mean()\n",
    "df.loc[mask,'Assets'] = average_nona"
   ]
  },
  {
   "cell_type": "code",
   "execution_count": 109,
   "metadata": {},
   "outputs": [
    {
     "data": {
      "text/plain": [
       "892.1828612405881"
      ]
     },
     "execution_count": 109,
     "metadata": {},
     "output_type": "execute_result"
    }
   ],
   "source": [
    "average_nona"
   ]
  },
  {
   "cell_type": "markdown",
   "metadata": {},
   "source": [
    "#### OpportunityTypeValue"
   ]
  },
  {
   "cell_type": "code",
   "execution_count": 110,
   "metadata": {},
   "outputs": [
    {
     "data": {
      "text/plain": [
       "317"
      ]
     },
     "execution_count": 110,
     "metadata": {},
     "output_type": "execute_result"
    }
   ],
   "source": [
    "df['OpportunityTypeValue'].isna().sum()"
   ]
  },
  {
   "cell_type": "code",
   "execution_count": 111,
   "metadata": {},
   "outputs": [],
   "source": [
    "#OpportunityTypeValue - use the most common value\n",
    "mask = df['OpportunityTypeValue'].isna()\n",
    "most_common = df['OpportunityTypeValue'].value_counts().index[0]\n",
    "df.loc[mask,'OpportunityTypeValue'] = most_common"
   ]
  },
  {
   "cell_type": "markdown",
   "metadata": {},
   "source": [
    "#### CustomerNumber"
   ]
  },
  {
   "cell_type": "code",
   "execution_count": 112,
   "metadata": {},
   "outputs": [
    {
     "data": {
      "text/plain": [
       "2507"
      ]
     },
     "execution_count": 112,
     "metadata": {},
     "output_type": "execute_result"
    }
   ],
   "source": [
    "df['CustomerNumber'].isna().sum()"
   ]
  },
  {
   "cell_type": "code",
   "execution_count": 113,
   "metadata": {},
   "outputs": [],
   "source": [
    "#CustomerNumber - if customer number appears less than 5 times, bucket into unique category, use CustomerNumber otherwise\n",
    "cust_counts = df['CustomerNumber'].value_counts()\n",
    "cust_list = cust_counts[cust_counts >= 5].index.tolist()\n",
    "df['CustomerNumber'] = np.where(df['CustomerNumber'].isin(cust_list),df['CustomerNumber'],0)\n",
    "df['CustomerNumber'] = df['CustomerNumber'].astype(object)"
   ]
  },
  {
   "cell_type": "markdown",
   "metadata": {},
   "source": [
    "#### Dealstatusvalue"
   ]
  },
  {
   "cell_type": "code",
   "execution_count": 114,
   "metadata": {},
   "outputs": [
    {
     "data": {
      "text/plain": [
       "2"
      ]
     },
     "execution_count": 114,
     "metadata": {},
     "output_type": "execute_result"
    }
   ],
   "source": [
    "df['dealstatusvalue'].isna().sum()"
   ]
  },
  {
   "cell_type": "code",
   "execution_count": 115,
   "metadata": {},
   "outputs": [],
   "source": [
    "#Dealstatusvalue - change to Won\n",
    "mask = df['dealstatusvalue'].isna()\n",
    "df.loc[mask,'dealstatusvalue'] = \"Won\""
   ]
  },
  {
   "cell_type": "markdown",
   "metadata": {},
   "source": [
    "#### SMEID"
   ]
  },
  {
   "cell_type": "code",
   "execution_count": 116,
   "metadata": {},
   "outputs": [
    {
     "data": {
      "text/plain": [
       "2284"
      ]
     },
     "execution_count": 116,
     "metadata": {},
     "output_type": "execute_result"
    }
   ],
   "source": [
    "df['SMEID'].isna().sum()"
   ]
  },
  {
   "cell_type": "code",
   "execution_count": 117,
   "metadata": {},
   "outputs": [],
   "source": [
    "#SMEID - if null or equal to the TechnologySolutionOwnerBadge, code 0, otherwise 1\n",
    "df['SMEID'] = np.where(df['SMEID'].isnull(),0,df['SMEID'])\n",
    "df['SMEID'] = np.where(df['SMEID'] == df['OwnerID'],0,1)"
   ]
  },
  {
   "cell_type": "markdown",
   "metadata": {},
   "source": [
    "#### Assigned Date"
   ]
  },
  {
   "cell_type": "code",
   "execution_count": 118,
   "metadata": {},
   "outputs": [
    {
     "data": {
      "text/plain": [
       "6"
      ]
     },
     "execution_count": 118,
     "metadata": {},
     "output_type": "execute_result"
    }
   ],
   "source": [
    "df['AssignedDate'].isna().sum()"
   ]
  },
  {
   "cell_type": "code",
   "execution_count": 119,
   "metadata": {},
   "outputs": [],
   "source": [
    "#Assigned Date - Impute from Intake Date\n",
    "mask = df['AssignedDate'].isna()\n",
    "df['AssignedDate'] = np.where(mask, df['IntakeDate'], df['AssignedDate'])"
   ]
  },
  {
   "cell_type": "markdown",
   "metadata": {},
   "source": [
    "#### First Deliverable Provided"
   ]
  },
  {
   "cell_type": "code",
   "execution_count": 120,
   "metadata": {},
   "outputs": [
    {
     "data": {
      "text/plain": [
       "30"
      ]
     },
     "execution_count": 120,
     "metadata": {},
     "output_type": "execute_result"
    }
   ],
   "source": [
    "df['FirstDeliverableProvidedDate'].isna().sum()"
   ]
  },
  {
   "cell_type": "code",
   "execution_count": 121,
   "metadata": {},
   "outputs": [],
   "source": [
    "#First Deliverable Provided - impute final deliverable provided where available\n",
    "mask = df['FirstDeliverableProvidedDate'].isna()\n",
    "df['FirstDeliverableProvidedDate'] = np.where(mask, df['FinalDeliverableProvidedDate'], \n",
    "                                              df['FirstDeliverableProvidedDate'])\n",
    "#drop other rows\n",
    "df = df.dropna(axis=0, subset=['FirstDeliverableProvidedDate'])"
   ]
  },
  {
   "cell_type": "markdown",
   "metadata": {},
   "source": [
    "#### Contract Revenue"
   ]
  },
  {
   "cell_type": "code",
   "execution_count": 122,
   "metadata": {},
   "outputs": [
    {
     "data": {
      "text/plain": [
       "436"
      ]
     },
     "execution_count": 122,
     "metadata": {},
     "output_type": "execute_result"
    }
   ],
   "source": [
    "df['ContractRevenue'].isna().sum()"
   ]
  },
  {
   "cell_type": "code",
   "execution_count": 123,
   "metadata": {},
   "outputs": [],
   "source": [
    "#Impute from Line Item Revenue where available\n",
    "mask = df['ContractRevenue'].isna()\n",
    "df['ContractRevenue'] = np.where(mask, df['LineItemRevenue'], df['ContractRevenue'])\n",
    "\n",
    "#Fill rest with average of column\n",
    "mask = df['ContractRevenue'].isna()\n",
    "average_nona = df['ContractRevenue'][-mask].mean()\n",
    "df.loc[mask,'ContractRevenue'] = average_nona"
   ]
  },
  {
   "cell_type": "markdown",
   "metadata": {},
   "source": [
    "#### Line Item Revenue"
   ]
  },
  {
   "cell_type": "code",
   "execution_count": 124,
   "metadata": {},
   "outputs": [
    {
     "data": {
      "text/plain": [
       "322"
      ]
     },
     "execution_count": 124,
     "metadata": {},
     "output_type": "execute_result"
    }
   ],
   "source": [
    "df['LineItemRevenue'].isna().sum()"
   ]
  },
  {
   "cell_type": "code",
   "execution_count": 125,
   "metadata": {},
   "outputs": [],
   "source": [
    "#Impute from Contract Revenue where available\n",
    "mask = df['LineItemRevenue'].isna()\n",
    "df['LineItemRevenue'] = np.where(mask, df['ContractRevenue'], df['LineItemRevenue'])\n",
    "\n",
    "#Fill rest with average of column\n",
    "mask = df['LineItemRevenue'].isna()\n",
    "average_nona = df['LineItemRevenue'][-mask].mean()\n",
    "df.loc[mask,'LineItemRevenue'] = average_nona"
   ]
  },
  {
   "cell_type": "markdown",
   "metadata": {},
   "source": [
    "#### Drop Columns outside initial analysis"
   ]
  },
  {
   "cell_type": "code",
   "execution_count": 126,
   "metadata": {},
   "outputs": [],
   "source": [
    "#Drop columns outside initial analysis\n",
    "df = df.drop(columns=['FinalDeliverableProvidedDate', 'RespondedToSales'])"
   ]
  },
  {
   "cell_type": "markdown",
   "metadata": {},
   "source": [
    "#### Inspect columns and export csv"
   ]
  },
  {
   "cell_type": "code",
   "execution_count": 127,
   "metadata": {},
   "outputs": [
    {
     "data": {
      "text/plain": [
       "MyDealId                           0\n",
       "BookingSystemName                  0\n",
       "Assets                             0\n",
       "IsPrimary                          0\n",
       "OpportunityTypeValue               0\n",
       "CustomerNumber                     0\n",
       "dealstatusvalue                    0\n",
       "RegionValue                        0\n",
       "CountryValue                       0\n",
       "OwnerID                            0\n",
       "TechnologySolutionOwnerBadge       0\n",
       "SMEID                              0\n",
       "LOBNAME                            0\n",
       "Technologyname                     0\n",
       "Fiscal Year                        0\n",
       "Fiscal Quarter                     0\n",
       "Fiscal Week                        0\n",
       "IntakeDate                         0\n",
       "AssignedDate                       0\n",
       "FirstDeliverableProvidedDate       0\n",
       "ContractRevenue                    0\n",
       "LineItemRevenue                    0\n",
       "dealtechnologytags              3216\n",
       "Time in Job Profile                0\n",
       "dtype: int64"
      ]
     },
     "execution_count": 127,
     "metadata": {},
     "output_type": "execute_result"
    }
   ],
   "source": [
    "df.isna().sum()"
   ]
  },
  {
   "cell_type": "code",
   "execution_count": 129,
   "metadata": {},
   "outputs": [
    {
     "name": "stdout",
     "output_type": "stream",
     "text": [
      "Total rows remaining:  6242\n"
     ]
    }
   ],
   "source": [
    "print('Total rows remaining: ', len(df))"
   ]
  },
  {
   "cell_type": "code",
   "execution_count": 128,
   "metadata": {},
   "outputs": [],
   "source": [
    "df.to_csv('DataExtract_v4.csv', index=False) #export CSV file provided"
   ]
  }
 ],
 "metadata": {
  "kernelspec": {
   "display_name": "Python 3",
   "language": "python",
   "name": "python3"
  },
  "language_info": {
   "codemirror_mode": {
    "name": "ipython",
    "version": 3
   },
   "file_extension": ".py",
   "mimetype": "text/x-python",
   "name": "python",
   "nbconvert_exporter": "python",
   "pygments_lexer": "ipython3",
   "version": "3.7.3"
  }
 },
 "nbformat": 4,
 "nbformat_minor": 2
}
